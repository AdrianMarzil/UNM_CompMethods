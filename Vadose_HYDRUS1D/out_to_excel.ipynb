{
 "cells": [
  {
   "cell_type": "markdown",
   "metadata": {},
   "source": [
    "### T_Level.out to Excel file conversion"
   ]
  },
  {
   "cell_type": "code",
   "execution_count": 8,
   "metadata": {},
   "outputs": [
    {
     "name": "stdout",
     "output_type": "stream",
     "text": [
      "Excel file created successfully at C:/Users/marzi/OneDrive - University of New Mexico/CE 549/Homework/HW 10/T_Level_output_P4.xlsx\n"
     ]
    }
   ],
   "source": [
    "import pandas as pd\n",
    "\n",
    "def hydrus_out_to_excel(out_file_path, excel_file_path):\n",
    "    \"\"\"\n",
    "    Convert a HYDRUS-1D .out file to an Excel file.\n",
    "    \n",
    "    Parameters:\n",
    "    out_file_path (str): The path to the HYDRUS-1D .out file.\n",
    "    excel_file_path (str): The path to save the Excel file.\n",
    "    \"\"\"\n",
    "    # Read the .out file\n",
    "    with open(out_file_path, 'r') as file:\n",
    "        lines = file.readlines()\n",
    "\n",
    "    # Extract headers from the relevant lines\n",
    "    headers = [\n",
    "        'Time', 'rTop', 'rRoot', 'vTop', 'vRoot', 'vBot', 'sum_rTop', 'sum_rRoot', 'sum_vTop',\n",
    "        'sum_vRoot', 'sum_vBot', 'hTop', 'hRoot', 'hBot', 'RunOff', 'sum_RunOff', 'Volume',\n",
    "        'sum_Infil', 'sum_Evap', 'TLevel', 'Cum_WTrans', 'SnowLayer'\n",
    "    ]\n",
    "\n",
    "    # Extract data starting from line 10 onward\n",
    "    data_lines = lines[9:]  # Data starts at line 10 (index 9)\n",
    "\n",
    "    # Clean and split each line by whitespace\n",
    "    data = []\n",
    "    for line in data_lines:\n",
    "        row = line.strip().split()\n",
    "        if row:  # Only add non-empty rows\n",
    "            data.append(row)\n",
    "\n",
    "    # Create a pandas DataFrame from the data\n",
    "    df = pd.DataFrame(data, columns=headers)\n",
    "\n",
    "    # Save the DataFrame to an Excel file\n",
    "    df.to_excel(excel_file_path, index=False)\n",
    "\n",
    "    print(f\"Excel file created successfully at {excel_file_path}\")\n",
    "\n",
    "# Example usage:\n",
    "out_file_path = 'C:/Users/marzi/OneDrive - University of New Mexico/CE 549/Homework/HW 10/T_Level.out'  # Replace with your actual file path\n",
    "excel_file_path = 'C:/Users/marzi/OneDrive - University of New Mexico/CE 549/Homework/HW 10/T_Level_output.xlsx'  # Replace with your desired save location\n",
    "\n",
    "hydrus_out_to_excel(out_file_path, excel_file_path)\n"
   ]
  },
  {
   "cell_type": "markdown",
   "metadata": {},
   "source": [
    "### Nod_Inf.out to Excel file conversion"
   ]
  },
  {
   "cell_type": "code",
   "execution_count": 9,
   "metadata": {},
   "outputs": [
    {
     "name": "stdout",
     "output_type": "stream",
     "text": [
      "Excel file created successfully at C:/Users/marzi/OneDrive - University of New Mexico/CE 549/Homework/HW 10/Nod_Inf_output_P4.xlsx\n"
     ]
    }
   ],
   "source": [
    "import pandas as pd\n",
    "\n",
    "def nod_inf_out_to_excel(out_file_path, excel_file_path):\n",
    "    \"\"\"\n",
    "    Convert a Nod_Inf.out file to an Excel file with separate sheets for each 'Time:' heading.\n",
    "    \n",
    "    Parameters:\n",
    "    out_file_path (str): The path to the Nod_Inf.out file.\n",
    "    excel_file_path (str): The path to save the Excel file.\n",
    "    \"\"\"\n",
    "    # Read the .out file\n",
    "    with open(out_file_path, 'r') as file:\n",
    "        lines = file.readlines()\n",
    "\n",
    "    # Initialize variables\n",
    "    time_groups = {}\n",
    "    current_time = None\n",
    "    data = []\n",
    "\n",
    "    # Loop through the lines and group data under each 'Time:' heading\n",
    "    for line in lines:\n",
    "        line = line.strip()\n",
    "\n",
    "        # Detect 'Time:' headings\n",
    "        if line.startswith(\"Time:\"):\n",
    "            # Save the current group if we have one\n",
    "            if current_time and data:\n",
    "                time_groups[current_time] = data\n",
    "\n",
    "            # Start a new group for the new 'Time:'\n",
    "            current_time = line.split(\":\")[1].strip()  # Get the time value\n",
    "            data = []  # Reset the data list for the new group\n",
    "        else:\n",
    "            # Append the row of data to the current group if it's not empty\n",
    "            if line:\n",
    "                data.append(line.split())\n",
    "\n",
    "    # Save the last group after the loop\n",
    "    if current_time and data:\n",
    "        time_groups[current_time] = data\n",
    "\n",
    "    # Create a pandas Excel writer\n",
    "    with pd.ExcelWriter(excel_file_path) as writer:\n",
    "        # For each time group, create a new sheet\n",
    "        for time, group_data in time_groups.items():\n",
    "            # Create a DataFrame from the group data\n",
    "            df = pd.DataFrame(group_data)\n",
    "\n",
    "            # Write the DataFrame to a new sheet in the Excel file\n",
    "            sheet_name = f'Time_{time}'\n",
    "            df.to_excel(writer, sheet_name=sheet_name, index=False, header=False)\n",
    "\n",
    "    print(f\"Excel file created successfully at {excel_file_path}\")\n",
    "\n",
    "# Example usage:\n",
    "out_file_path = 'C:/Users/marzi/OneDrive - University of New Mexico/CE 549/Homework/HW 10/Nod_Inf.out'  # Replace with your actual file path\n",
    "excel_file_path = 'C:/Users/marzi/OneDrive - University of New Mexico/CE 549/Homework/HW 10/Nod_Inf_output.xlsx'  # Replace with your desired save location\n",
    "\n",
    "nod_inf_out_to_excel(out_file_path, excel_file_path)\n"
   ]
  },
  {
   "cell_type": "code",
   "execution_count": null,
   "metadata": {},
   "outputs": [],
   "source": []
  }
 ],
 "metadata": {
  "kernelspec": {
   "display_name": "genpy",
   "language": "python",
   "name": "python3"
  },
  "language_info": {
   "codemirror_mode": {
    "name": "ipython",
    "version": 3
   },
   "file_extension": ".py",
   "mimetype": "text/x-python",
   "name": "python",
   "nbconvert_exporter": "python",
   "pygments_lexer": "ipython3",
   "version": "3.11.4"
  }
 },
 "nbformat": 4,
 "nbformat_minor": 2
}
