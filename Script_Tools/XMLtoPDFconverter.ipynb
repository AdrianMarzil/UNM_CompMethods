{
 "cells": [
  {
   "cell_type": "code",
   "execution_count": 14,
   "metadata": {},
   "outputs": [
    {
     "name": "stdout",
     "output_type": "stream",
     "text": [
      "PDF successfully saved to C:/Users/marzi/Desktop/output.pdf\n"
     ]
    }
   ],
   "source": [
    "import xml.etree.ElementTree as ET\n",
    "from fpdf import FPDF\n",
    "import html  # For decoding HTML entities\n",
    "\n",
    "def convert_xml_to_pdf(input_file: str, output_file: str):\n",
    "    \"\"\"\n",
    "    Converts an XML glossary file to a formatted PDF after sorting entries alphabetically.\n",
    "\n",
    "    Args:\n",
    "        input_file (str): Path to the XML file.\n",
    "        output_file (str): Path to save the output PDF.\n",
    "    \"\"\"\n",
    "    try:\n",
    "        # Parse the XML file\n",
    "        tree = ET.parse(input_file)\n",
    "        root = tree.getroot()\n",
    "\n",
    "        # Find the <ENTRIES> tag under <INFO>\n",
    "        entries = root.find(\"INFO/ENTRIES\")\n",
    "        if entries is None:\n",
    "            raise ValueError(\"No <ENTRIES> found in the XML file.\")\n",
    "\n",
    "        # Extract and sort entries by <CONCEPT> text\n",
    "        entry_list = list(entries.findall(\"ENTRY\"))\n",
    "        sorted_entries = sorted(\n",
    "            entry_list,\n",
    "            key=lambda entry: (\n",
    "                entry.find(\"CONCEPT\").text if entry.find(\"CONCEPT\") is not None else \"\"\n",
    "            ).lower()\n",
    "        )\n",
    "\n",
    "        # Initialize PDF\n",
    "        pdf = FPDF()\n",
    "        pdf.set_auto_page_break(auto=True, margin=15)\n",
    "        pdf.add_page()\n",
    "        pdf.set_font(\"Arial\", size=12)\n",
    "\n",
    "        # Add a title\n",
    "        pdf.set_font(\"Arial\", style=\"B\", size=16)\n",
    "        pdf.cell(0, 10, \"Dune - Terminology of the Imperium\", ln=True, align=\"C\")\n",
    "        pdf.ln(10)\n",
    "\n",
    "        # Write sorted entries to the PDF\n",
    "        for entry in sorted_entries:\n",
    "            concept = entry.find(\"CONCEPT\").text if entry.find(\"CONCEPT\") is not None else \"[No Concept]\"\n",
    "            definition = entry.find(\"DEFINITION\").text if entry.find(\"DEFINITION\") is not None else \"[No Definition]\"\n",
    "\n",
    "            # Decode HTML entities\n",
    "            concept = html.unescape(concept)\n",
    "            definition = html.unescape(definition)\n",
    "\n",
    "            # Write to PDF\n",
    "            pdf.set_font(\"Arial\", style=\"B\", size=10)\n",
    "            pdf.cell(0, 10, concept, ln=True)\n",
    "            pdf.set_font(\"Arial\", size=10)\n",
    "            pdf.multi_cell(0, 10, definition)\n",
    "            pdf.ln(5)\n",
    "\n",
    "        # Save the PDF\n",
    "        pdf.output(output_file)\n",
    "        print(f\"PDF successfully saved to {output_file}\")\n",
    "\n",
    "    except Exception as e:\n",
    "        print(f\"An error occurred: {e}\")\n",
    "\n",
    "# Usage\n",
    "XMLFile = \"C:/Users/marzi/Downloads/Terminology of the Imperium-Glossary of Terms in the book.xml\"\n",
    "PDFOut = \"C:/Users/marzi/Desktop/output.pdf\" \n",
    "convert_xml_to_pdf(XMLFile, PDFOut)\n"
   ]
  },
  {
   "cell_type": "code",
   "execution_count": null,
   "metadata": {},
   "outputs": [],
   "source": []
  }
 ],
 "metadata": {
  "kernelspec": {
   "display_name": "genpy",
   "language": "python",
   "name": "python3"
  },
  "language_info": {
   "codemirror_mode": {
    "name": "ipython",
    "version": 3
   },
   "file_extension": ".py",
   "mimetype": "text/x-python",
   "name": "python",
   "nbconvert_exporter": "python",
   "pygments_lexer": "ipython3",
   "version": "3.11.4"
  }
 },
 "nbformat": 4,
 "nbformat_minor": 2
}
