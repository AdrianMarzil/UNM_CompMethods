{
 "cells": [
  {
   "cell_type": "markdown",
   "metadata": {},
   "source": [
    "### Urban Classified Script for Sentinel-2"
   ]
  },
  {
   "cell_type": "markdown",
   "metadata": {},
   "source": [
    "<b>General description of the script:</b>\n",
    "<br>The script uses the NDWI, NDVI, BarrenSoil and B11 to differntiate between water, built up areas, barren areas and vegetated areas. In the script, water is colored blue, vegetation green, built up areas white, barren soil brown and all other pixels dark green. All pixels with NDWI values greater than 0.2 are considered to be water; all other pixels with B11 values greater than 0.8 OR NDVI values lower than 0.1 to be built up; all other pixels with NDVI values greater than 0.2 to be vegetation (returnint NDVI in the green channel) and all other pixels to be barren soil or else (returnint BareSoil index in the red channel and dark green in the green channel.). The script does a good job (although not perfect) at separating barren soil from buildings, which is often an issuewith urban scripts. It is thus most valuable in arid regions, where most other visualizations fail to distinguish buildings from the surrounding sand or soil."
   ]
  },
  {
   "cell_type": "markdown",
   "metadata": {},
   "source": [
    "Original JavaScript from:\n",
    "https://custom-scripts.sentinel-hub.com/sentinel-2/urban_classified/"
   ]
  },
  {
   "cell_type": "code",
   "execution_count": null,
   "metadata": {},
   "outputs": [],
   "source": [
    "//Urban Classified Script\n",
    "//by Monja Sebela\n",
    "\n",
    "var NDWI=index(B03,B08); \n",
    "var NDVI=index(B08, B04);\n",
    "var BareSoil=2.5 *((B11 + B04)-(B08 + B02))/((B11 + B04)+(B08 + B02));\n",
    " \n",
    "if (NDWI > 0.2) {\n",
    " return [0, 0.5, 1]\n",
    "}\n",
    "if((B11>0.8)||(NDVI<0.1)){\n",
    "  return[1,1,1]\n",
    "}\n",
    "if (NDVI>0.2){\n",
    "  return [0, 0.3*NDVI, 0]\n",
    "}\n",
    "else {\n",
    " return [BareSoil, 0.2, 0]\n",
    "}"
   ]
  },
  {
   "cell_type": "markdown",
   "metadata": {},
   "source": [
    "Python Script for Urban Classified:"
   ]
  },
  {
   "cell_type": "code",
   "execution_count": null,
   "metadata": {},
   "outputs": [
    {
     "name": "stdout",
     "output_type": "stream",
     "text": [
      "✅ Classified land cover image saved to: /Users/marzi\\OneDrive - University of New Mexico/EPS 522 - Drones/Assignments/Assignment 6 - Intro Satellite Remote Sensing/S2_VirtualRasterLayers/Urban_Classified.tif\n"
     ]
    }
   ],
   "source": [
    "import numpy as np\n",
    "import rasterio\n",
    "from rasterio.warp import reproject, Resampling\n",
    "\n",
    "def resample_to_match(src, reference):\n",
    "    \"\"\"Resample a raster to match a reference raster.\"\"\"\n",
    "    data = src.read(1)\n",
    "    dst_shape = (reference.height, reference.width)\n",
    "    dst_array = np.empty(dst_shape, dtype=np.float32)\n",
    "\n",
    "    reproject(\n",
    "        source=data,\n",
    "        destination=dst_array,\n",
    "        src_transform=src.transform,\n",
    "        src_crs=src.crs,\n",
    "        dst_transform=reference.transform,\n",
    "        dst_crs=reference.crs,\n",
    "        resampling=Resampling.bilinear\n",
    "    )\n",
    "\n",
    "    return dst_array\n",
    "\n",
    "def urban_classified(ndwi_path, ndvi_path, bsi_path, b11_path, output_path):\n",
    "    with rasterio.open(ndwi_path) as ndwi_src, \\\n",
    "         rasterio.open(ndvi_path) as ndvi_src, \\\n",
    "         rasterio.open(bsi_path) as bsi_src, \\\n",
    "         rasterio.open(b11_path) as b11_src:\n",
    "\n",
    "        # Read NDWI as base and resample others\n",
    "        ndwi = ndwi_src.read(1)\n",
    "        ndvi = resample_to_match(ndvi_src, ndwi_src)\n",
    "        bsi = resample_to_match(bsi_src, ndwi_src)\n",
    "        b11 = resample_to_match(b11_src, ndwi_src)\n",
    "\n",
    "        # Clean nodata values\n",
    "        ndwi[ndwi < -1e10] = 0\n",
    "        ndvi[ndvi < -1e10] = 0\n",
    "        bsi[bsi < -1e10] = 0\n",
    "        b11[b11 < -1e10] = 0\n",
    "\n",
    "        height, width = ndwi.shape\n",
    "        classified = np.zeros((3, height, width), dtype=np.float32)\n",
    "\n",
    "        # Updated classification thresholds\n",
    "        water_mask = ndwi > 0.2\n",
    "        builtup_mask = (~water_mask) & (b11 > 0.9) & (ndvi < 0.05)\n",
    "        vegetation_mask = (~water_mask) & (~builtup_mask) & (ndvi > 0.2)\n",
    "        barren_mask = (~water_mask) & (~builtup_mask) & (~vegetation_mask)\n",
    "\n",
    "        # Water - Bright Blue\n",
    "        classified[0][water_mask] = 0\n",
    "        classified[1][water_mask] = 0.3\n",
    "        classified[2][water_mask] = 1\n",
    "\n",
    "        # Built-up - Light Gray\n",
    "        classified[0][builtup_mask] = 0.8\n",
    "        classified[1][builtup_mask] = 0.8\n",
    "        classified[2][builtup_mask] = 0.8\n",
    "\n",
    "        # Vegetation - Brighter Green\n",
    "        classified[0][vegetation_mask] = 0\n",
    "        classified[1][vegetation_mask] = 0.6 * ndvi[vegetation_mask]\n",
    "        classified[2][vegetation_mask] = 0\n",
    "\n",
    "        # Barren Soil - Reddish Brown / Orange\n",
    "        classified[0][barren_mask] = bsi[barren_mask]\n",
    "        classified[1][barren_mask] = 0.3\n",
    "        classified[2][barren_mask] = 0\n",
    "\n",
    "        # Clip values to [0, 1] and convert to uint8\n",
    "        np.clip(classified, 0, 1, out=classified)\n",
    "        classified_uint8 = (classified * 255).astype(np.uint8)\n",
    "\n",
    "        # Save output\n",
    "        profile = ndwi_src.profile\n",
    "        profile.update({\n",
    "            'count': 3,\n",
    "            'dtype': 'uint8',\n",
    "            'compress': 'lzw',\n",
    "            'nodata': 0\n",
    "        })\n",
    "\n",
    "        with rasterio.open(output_path, 'w', **profile) as dst:\n",
    "            dst.write(classified_uint8)\n",
    "\n",
    "    print(f\"✅ Classified land cover image saved to: {output_path}\")\n",
    "\n",
    "\n",
    "\n",
    "# Function Usage\n",
    "urban_classified(\n",
    "    ndwi_path='/Users/marzi\\OneDrive - University of New Mexico/EPS 522 - Drones/Assignments/Assignment 6 - Intro Satellite Remote Sensing/S2_VirtualRasterLayers/VirtualRaster_S2_3Oct2023_NDWILayer.tif',\n",
    "    ndvi_path='/Users/marzi\\OneDrive - University of New Mexico/EPS 522 - Drones/Assignments/Assignment 6 - Intro Satellite Remote Sensing/S2_VirtualRasterLayers/VirtualRaster_S2_3Oct2023_NDVILayer.tif',\n",
    "    bsi_path='/Users/marzi\\OneDrive - University of New Mexico/EPS 522 - Drones/Assignments/Assignment 6 - Intro Satellite Remote Sensing/S2_VirtualRasterLayers/VirtualRaster_S2_3Oct2023_BSILayer.tif',\n",
    "    b11_path='/Users/marzi\\OneDrive - University of New Mexico/EPS 522 - Drones/Assignments/Assignment 6 - Intro Satellite Remote Sensing/Sentinel-2 Data/2023-10-03-00_00_2023-10-03-23_59_Sentinel-2_L2A_B11_(Raw).tiff',\n",
    "    output_path='/Users/marzi\\OneDrive - University of New Mexico/EPS 522 - Drones/Assignments/Assignment 6 - Intro Satellite Remote Sensing/S2_VirtualRasterLayers/Urban_Classified.tif'\n",
    ")"
   ]
  },
  {
   "cell_type": "code",
   "execution_count": null,
   "metadata": {},
   "outputs": [],
   "source": []
  }
 ],
 "metadata": {
  "kernelspec": {
   "display_name": "genpy",
   "language": "python",
   "name": "python3"
  },
  "language_info": {
   "codemirror_mode": {
    "name": "ipython",
    "version": 3
   },
   "file_extension": ".py",
   "mimetype": "text/x-python",
   "name": "python",
   "nbconvert_exporter": "python",
   "pygments_lexer": "ipython3",
   "version": "3.11.4"
  }
 },
 "nbformat": 4,
 "nbformat_minor": 2
}
